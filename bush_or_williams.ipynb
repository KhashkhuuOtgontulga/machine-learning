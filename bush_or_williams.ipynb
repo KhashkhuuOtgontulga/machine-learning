{
 "cells": [
  {
   "cell_type": "markdown",
   "metadata": {},
   "source": [
    "# Phase 1"
   ]
  },
  {
   "cell_type": "code",
   "execution_count": 9,
   "metadata": {},
   "outputs": [],
   "source": [
    "import pandas as pd\n",
    "import numpy as np\n",
    "import matplotlib.pyplot as plt\n",
    "import matplotlib.cm as cm\n",
    "from sklearn.neighbors import KNeighborsClassifier\n",
    "from sklearn.svm import SVC\n",
    "from sklearn.model_selection import cross_validate, StratifiedKFold"
   ]
  },
  {
   "cell_type": "markdown",
   "metadata": {},
   "source": [
    "## Exploration"
   ]
  },
  {
   "cell_type": "code",
   "execution_count": 30,
   "metadata": {},
   "outputs": [],
   "source": [
    "df = pd.read_csv('X.csv', sep = ' ', header = None, dtype = float)"
   ]
  },
  {
   "cell_type": "code",
   "execution_count": 31,
   "metadata": {},
   "outputs": [
    {
     "data": {
      "text/html": [
       "<div>\n",
       "<style scoped>\n",
       "    .dataframe tbody tr th:only-of-type {\n",
       "        vertical-align: middle;\n",
       "    }\n",
       "\n",
       "    .dataframe tbody tr th {\n",
       "        vertical-align: top;\n",
       "    }\n",
       "\n",
       "    .dataframe thead th {\n",
       "        text-align: right;\n",
       "    }\n",
       "</style>\n",
       "<table border=\"1\" class=\"dataframe\">\n",
       "  <thead>\n",
       "    <tr style=\"text-align: right;\">\n",
       "      <th></th>\n",
       "      <th>0</th>\n",
       "      <th>1</th>\n",
       "      <th>2</th>\n",
       "      <th>3</th>\n",
       "      <th>4</th>\n",
       "      <th>5</th>\n",
       "      <th>6</th>\n",
       "      <th>7</th>\n",
       "      <th>8</th>\n",
       "      <th>9</th>\n",
       "      <th>...</th>\n",
       "      <th>4086</th>\n",
       "      <th>4087</th>\n",
       "      <th>4088</th>\n",
       "      <th>4089</th>\n",
       "      <th>4090</th>\n",
       "      <th>4091</th>\n",
       "      <th>4092</th>\n",
       "      <th>4093</th>\n",
       "      <th>4094</th>\n",
       "      <th>4095</th>\n",
       "    </tr>\n",
       "  </thead>\n",
       "  <tbody>\n",
       "    <tr>\n",
       "      <th>0</th>\n",
       "      <td>0.106354</td>\n",
       "      <td>0.099752</td>\n",
       "      <td>0.111919</td>\n",
       "      <td>0.106903</td>\n",
       "      <td>0.104012</td>\n",
       "      <td>0.084710</td>\n",
       "      <td>0.098854</td>\n",
       "      <td>0.096039</td>\n",
       "      <td>0.093781</td>\n",
       "      <td>0.089920</td>\n",
       "      <td>...</td>\n",
       "      <td>0.030853</td>\n",
       "      <td>0.027660</td>\n",
       "      <td>0.039405</td>\n",
       "      <td>0.051416</td>\n",
       "      <td>0.048085</td>\n",
       "      <td>0.053249</td>\n",
       "      <td>0.051611</td>\n",
       "      <td>0.049834</td>\n",
       "      <td>0.054026</td>\n",
       "      <td>0.046280</td>\n",
       "    </tr>\n",
       "    <tr>\n",
       "      <th>1</th>\n",
       "      <td>0.000000</td>\n",
       "      <td>0.000000</td>\n",
       "      <td>0.000000</td>\n",
       "      <td>0.000000</td>\n",
       "      <td>0.006354</td>\n",
       "      <td>0.368572</td>\n",
       "      <td>0.364862</td>\n",
       "      <td>0.363887</td>\n",
       "      <td>0.390827</td>\n",
       "      <td>0.535976</td>\n",
       "      <td>...</td>\n",
       "      <td>0.098998</td>\n",
       "      <td>0.085979</td>\n",
       "      <td>0.115688</td>\n",
       "      <td>0.321058</td>\n",
       "      <td>0.236679</td>\n",
       "      <td>0.396907</td>\n",
       "      <td>0.009323</td>\n",
       "      <td>0.004108</td>\n",
       "      <td>0.000000</td>\n",
       "      <td>0.000000</td>\n",
       "    </tr>\n",
       "    <tr>\n",
       "      <th>2</th>\n",
       "      <td>0.000000</td>\n",
       "      <td>0.000000</td>\n",
       "      <td>0.000000</td>\n",
       "      <td>0.000000</td>\n",
       "      <td>0.000000</td>\n",
       "      <td>0.000000</td>\n",
       "      <td>0.000000</td>\n",
       "      <td>0.000000</td>\n",
       "      <td>0.000000</td>\n",
       "      <td>0.000000</td>\n",
       "      <td>...</td>\n",
       "      <td>0.000000</td>\n",
       "      <td>0.000000</td>\n",
       "      <td>0.000000</td>\n",
       "      <td>0.000000</td>\n",
       "      <td>0.000000</td>\n",
       "      <td>0.000000</td>\n",
       "      <td>0.000000</td>\n",
       "      <td>0.000000</td>\n",
       "      <td>0.000000</td>\n",
       "      <td>0.000000</td>\n",
       "    </tr>\n",
       "    <tr>\n",
       "      <th>3</th>\n",
       "      <td>0.017631</td>\n",
       "      <td>0.011308</td>\n",
       "      <td>0.011253</td>\n",
       "      <td>0.012550</td>\n",
       "      <td>0.216859</td>\n",
       "      <td>0.201320</td>\n",
       "      <td>0.170999</td>\n",
       "      <td>0.372577</td>\n",
       "      <td>0.332591</td>\n",
       "      <td>0.437365</td>\n",
       "      <td>...</td>\n",
       "      <td>0.157373</td>\n",
       "      <td>0.149812</td>\n",
       "      <td>0.149898</td>\n",
       "      <td>0.143233</td>\n",
       "      <td>0.131897</td>\n",
       "      <td>0.133841</td>\n",
       "      <td>0.134041</td>\n",
       "      <td>0.135289</td>\n",
       "      <td>0.152673</td>\n",
       "      <td>0.150228</td>\n",
       "    </tr>\n",
       "    <tr>\n",
       "      <th>4</th>\n",
       "      <td>0.000000</td>\n",
       "      <td>0.000000</td>\n",
       "      <td>0.000000</td>\n",
       "      <td>0.000000</td>\n",
       "      <td>0.000000</td>\n",
       "      <td>0.000000</td>\n",
       "      <td>0.000000</td>\n",
       "      <td>0.000000</td>\n",
       "      <td>0.000000</td>\n",
       "      <td>0.000000</td>\n",
       "      <td>...</td>\n",
       "      <td>0.122659</td>\n",
       "      <td>0.139969</td>\n",
       "      <td>0.139665</td>\n",
       "      <td>0.107634</td>\n",
       "      <td>0.040539</td>\n",
       "      <td>0.050871</td>\n",
       "      <td>0.063530</td>\n",
       "      <td>0.116940</td>\n",
       "      <td>0.039709</td>\n",
       "      <td>0.020021</td>\n",
       "    </tr>\n",
       "  </tbody>\n",
       "</table>\n",
       "<p>5 rows × 4096 columns</p>\n",
       "</div>"
      ],
      "text/plain": [
       "       0         1         2         3         4         5         6     \\\n",
       "0  0.106354  0.099752  0.111919  0.106903  0.104012  0.084710  0.098854   \n",
       "1  0.000000  0.000000  0.000000  0.000000  0.006354  0.368572  0.364862   \n",
       "2  0.000000  0.000000  0.000000  0.000000  0.000000  0.000000  0.000000   \n",
       "3  0.017631  0.011308  0.011253  0.012550  0.216859  0.201320  0.170999   \n",
       "4  0.000000  0.000000  0.000000  0.000000  0.000000  0.000000  0.000000   \n",
       "\n",
       "       7         8         9       ...         4086      4087      4088  \\\n",
       "0  0.096039  0.093781  0.089920    ...     0.030853  0.027660  0.039405   \n",
       "1  0.363887  0.390827  0.535976    ...     0.098998  0.085979  0.115688   \n",
       "2  0.000000  0.000000  0.000000    ...     0.000000  0.000000  0.000000   \n",
       "3  0.372577  0.332591  0.437365    ...     0.157373  0.149812  0.149898   \n",
       "4  0.000000  0.000000  0.000000    ...     0.122659  0.139969  0.139665   \n",
       "\n",
       "       4089      4090      4091      4092      4093      4094      4095  \n",
       "0  0.051416  0.048085  0.053249  0.051611  0.049834  0.054026  0.046280  \n",
       "1  0.321058  0.236679  0.396907  0.009323  0.004108  0.000000  0.000000  \n",
       "2  0.000000  0.000000  0.000000  0.000000  0.000000  0.000000  0.000000  \n",
       "3  0.143233  0.131897  0.133841  0.134041  0.135289  0.152673  0.150228  \n",
       "4  0.107634  0.040539  0.050871  0.063530  0.116940  0.039709  0.020021  \n",
       "\n",
       "[5 rows x 4096 columns]"
      ]
     },
     "execution_count": 31,
     "metadata": {},
     "output_type": "execute_result"
    }
   ],
   "source": [
    "df.head()"
   ]
  },
  {
   "cell_type": "code",
   "execution_count": 17,
   "metadata": {},
   "outputs": [],
   "source": [
    "y = pd.read_csv(\"y_bush_vs_others.csv\", header=None)\n",
    "y_bush = y.values.ravel()\n",
    "y = pd.read_csv(\"y_williams_vs_others.csv\", header=None)\n",
    "y_williams = y.values.ravel()"
   ]
  },
  {
   "cell_type": "code",
   "execution_count": 32,
   "metadata": {},
   "outputs": [
    {
     "data": {
      "text/plain": [
       "(13233, 4096)"
      ]
     },
     "execution_count": 32,
     "metadata": {},
     "output_type": "execute_result"
    }
   ],
   "source": [
    "df.shape"
   ]
  },
  {
   "cell_type": "code",
   "execution_count": 19,
   "metadata": {},
   "outputs": [
    {
     "data": {
      "text/plain": [
       "530"
      ]
     },
     "execution_count": 19,
     "metadata": {},
     "output_type": "execute_result"
    }
   ],
   "source": [
    "np.sum(y_bush)"
   ]
  },
  {
   "cell_type": "code",
   "execution_count": 20,
   "metadata": {},
   "outputs": [
    {
     "data": {
      "text/plain": [
       "52"
      ]
     },
     "execution_count": 20,
     "metadata": {},
     "output_type": "execute_result"
    }
   ],
   "source": [
    "np.sum(y_williams)"
   ]
  },
  {
   "cell_type": "code",
   "execution_count": 21,
   "metadata": {},
   "outputs": [
    {
     "data": {
      "text/plain": [
       "(13233,)"
      ]
     },
     "execution_count": 21,
     "metadata": {},
     "output_type": "execute_result"
    }
   ],
   "source": [
    "y_bush.shape"
   ]
  },
  {
   "cell_type": "markdown",
   "metadata": {},
   "source": [
    "## George Bush"
   ]
  },
  {
   "cell_type": "code",
   "execution_count": 33,
   "metadata": {},
   "outputs": [
    {
     "data": {
      "image/png": "[encoded data removed]",
      "text/plain": [
       "<Figure size 432x288 with 1 Axes>"
      ]
     },
     "metadata": {
      "needs_background": "light"
     },
     "output_type": "display_data"
    }
   ],
   "source": [
    "data = np.matrix(df.iloc[1101])\n",
    "# 2d array where the inside is one big array\n",
    "#print(data.shape)\n",
    "#print(data)\n",
    "data = np.reshape(data, (64,64))\n",
    "#print(data.shape)\n",
    "#print(data)\n",
    "# 2d array where the insides are now 64x64\n",
    "plt.imshow(data, cmap='gray')\n",
    "plt.show()"
   ]
  },
  {
   "cell_type": "markdown",
   "metadata": {},
   "source": [
    "## Serena Williams"
   ]
  },
  {
   "cell_type": "code",
   "execution_count": 34,
   "metadata": {},
   "outputs": [
    {
     "data": {
      "image/png": "[encoded data removed]",
      "text/plain": [
       "<Figure size 432x288 with 1 Axes>"
      ]
     },
     "metadata": {
      "needs_background": "light"
     },
     "output_type": "display_data"
    }
   ],
   "source": [
    "data = np.matrix(df.iloc[9990])\n",
    "# 2d array where the inside is one big array\n",
    "#print(data.shape)\n",
    "#print(data)\n",
    "data = np.reshape(data, (64,64))\n",
    "#print(data.shape)\n",
    "#print(data)\n",
    "# 2d array where the insides are now 64x64\n",
    "plt.imshow(data, cmap='gray')\n",
    "plt.show()"
   ]
  },
  {
   "cell_type": "code",
   "execution_count": 28,
   "metadata": {},
   "outputs": [],
   "source": [
    "student_id = \"A20379665\""
   ]
  },
  {
   "cell_type": "code",
   "execution_count": 29,
   "metadata": {},
   "outputs": [
    {
     "data": {
      "text/plain": [
       "'9665'"
      ]
     },
     "execution_count": 29,
     "metadata": {},
     "output_type": "execute_result"
    }
   ],
   "source": [
    "r = student_id[-4:]\n",
    "r"
   ]
  },
  {
   "cell_type": "markdown",
   "metadata": {},
   "source": [
    "## Models"
   ]
  },
  {
   "cell_type": "code",
   "execution_count": 36,
   "metadata": {},
   "outputs": [],
   "source": [
    "# default\n",
    "knn = KNeighborsClassifier(n_neighbors=5)"
   ]
  },
  {
   "cell_type": "code",
   "execution_count": 39,
   "metadata": {},
   "outputs": [],
   "source": [
    "cv_results = cross_validate(knn, \n",
    "                            X, \n",
    "                            y_bush, \n",
    "                            cv=2, \n",
    "                            scoring=(\"precision\",\"recall\", \"f1\"),\n",
    "                            return_train_score=False,\n",
    "                            n_jobs = -1)"
   ]
  },
  {
   "cell_type": "code",
   "execution_count": 40,
   "metadata": {},
   "outputs": [
    {
     "data": {
      "text/plain": [
       "{'fit_time': array([4.15225101, 5.29200006]),\n",
       " 'score_time': array([833.95163703, 833.15328693]),\n",
       " 'test_precision': array([0.5 , 0.16]),\n",
       " 'test_recall': array([0.01132075, 0.01509434]),\n",
       " 'test_f1': array([0.02214022, 0.02758621])}"
      ]
     },
     "execution_count": 40,
     "metadata": {},
     "output_type": "execute_result"
    }
   ],
   "source": [
    "cv_results"
   ]
  },
  {
   "cell_type": "code",
   "execution_count": 41,
   "metadata": {},
   "outputs": [],
   "source": [
    "cv_results = cross_validate(knn, \n",
    "                            X, \n",
    "                            y_bush, \n",
    "                            cv=3, \n",
    "                            scoring=(\"precision\",\"recall\", \"f1\"),\n",
    "                            return_train_score=False,\n",
    "                            n_jobs = -1)"
   ]
  },
  {
   "cell_type": "code",
   "execution_count": 42,
   "metadata": {},
   "outputs": [
    {
     "data": {
      "text/plain": [
       "{'fit_time': array([ 7.54527617, 12.93597627, 14.38393021]),\n",
       " 'score_time': array([1271.77988076, 1270.77992392, 1268.4949429 ]),\n",
       " 'test_precision': array([0.8       , 0.5       , 0.35294118]),\n",
       " 'test_recall': array([0.02259887, 0.02824859, 0.03409091]),\n",
       " 'test_f1': array([0.04395604, 0.05347594, 0.06217617])}"
      ]
     },
     "execution_count": 42,
     "metadata": {},
     "output_type": "execute_result"
    }
   ],
   "source": [
    "cv_results"
   ]
  },
  {
   "cell_type": "code",
   "execution_count": 44,
   "metadata": {},
   "outputs": [],
   "source": [
    "stratified_cv_results = cross_validate(knn, \n",
    "                                          X, \n",
    "                                          y_bush, \n",
    "                                          cv=StratifiedKFold(n_splits=3, shuffle=True, random_state=int(r)), \n",
    "                                          scoring=(\"precision\",\"recall\", \"f1\"),\n",
    "                                          return_train_score=False,\n",
    "                                          n_jobs = -1)"
   ]
  },
  {
   "cell_type": "code",
   "execution_count": 45,
   "metadata": {},
   "outputs": [
    {
     "data": {
      "text/plain": [
       "{'fit_time': array([ 6.98100805,  9.16273093, 14.20674396]),\n",
       " 'score_time': array([1165.27322984, 1165.98889589, 1161.37804914]),\n",
       " 'test_precision': array([0.4       , 0.33333333, 0.1       ]),\n",
       " 'test_recall': array([0.01129944, 0.02824859, 0.00568182]),\n",
       " 'test_f1': array([0.02197802, 0.05208333, 0.01075269])}"
      ]
     },
     "execution_count": 45,
     "metadata": {},
     "output_type": "execute_result"
    }
   ],
   "source": [
    "stratified_cv_results"
   ]
  },
  {
   "cell_type": "code",
   "execution_count": null,
   "metadata": {},
   "outputs": [],
   "source": [
    "svc = SVC()"
   ]
  },
  {
   "cell_type": "code",
   "execution_count": null,
   "metadata": {},
   "outputs": [],
   "source": [
    "stratified_cv_results = crocross_validate(svc, \n",
    "                                          X, \n",
    "                                          y_bush, \n",
    "                                          cv=StratifiedKFold(n_splits=3, shuffle=True, random_state=int(r)), \n",
    "                                          scoring=(\"precision\",\"recall\", \"f1\"),\n",
    "                                          return_train_score=False)"
   ]
  },
  {
   "cell_type": "code",
   "execution_count": null,
   "metadata": {},
   "outputs": [],
   "source": [
    "stratified_cv_results"
   ]
  },
  {
   "cell_type": "markdown",
   "metadata": {},
   "source": [
    "# break"
   ]
  },
  {
   "cell_type": "code",
   "execution_count": null,
   "metadata": {},
   "outputs": [],
   "source": [
    "p=svc.predict(x_t)"
   ]
  },
  {
   "cell_type": "code",
   "execution_count": null,
   "metadata": {},
   "outputs": [],
   "source": [
    "metrics.f1_score(y_bush, p)"
   ]
  },
  {
   "cell_type": "code",
   "execution_count": null,
   "metadata": {},
   "outputs": [],
   "source": [
    "for e in [-6, -5, -4, -3, -2, -1, 0]:\n",
    "    g = math.pow(10, e)\n",
    "    print(\"gamma\", g)\n",
    "    svc = SVC(C=1000000, gamma=g)\n",
    "    svc.fit(x_t, y_bush)\n",
    "    p=svc.predict(x_t)\n",
    "    print(\"F1\", metrics.f1_score(y_bush, p))"
   ]
  },
  {
   "cell_type": "code",
   "execution_count": null,
   "metadata": {},
   "outputs": [],
   "source": [
    "for e in [-6, -5, -4, -3, -2, -1, 0]:\n",
    "    g = math.pow(10, e)\n",
    "    print(\"gamma\", g)\n",
    "    svc = SVC(C=10, gamma=g)\n",
    "    svc.fit(x_t, y_bush)\n",
    "    p=svc.predict(x_t)\n",
    "    print(\"F1\", metrics.f1_score(y_bush, p))"
   ]
  },
  {
   "cell_type": "code",
   "execution_count": null,
   "metadata": {},
   "outputs": [],
   "source": [
    "svc = SVC(C=10, gamma=0.1)"
   ]
  },
  {
   "cell_type": "code",
   "execution_count": null,
   "metadata": {},
   "outputs": [],
   "source": [
    "stratified_cv_results = crocross_validate(svc, \n",
    "                                          x_t, \n",
    "                                          y_bush, \n",
    "                                          cv=StratifiedKFold(n_splits=3, shuffle=True, random_state=int(r)), \n",
    "                                          scoring=(\"precision\",\"recall\", \"f1\"),\n",
    "                                          return_train_score=False)"
   ]
  },
  {
   "cell_type": "code",
   "execution_count": null,
   "metadata": {},
   "outputs": [],
   "source": [
    "stratified_cv_results"
   ]
  },
  {
   "cell_type": "markdown",
   "metadata": {},
   "source": [
    "## Sessions"
   ]
  },
  {
   "cell_type": "code",
   "execution_count": 23,
   "metadata": {},
   "outputs": [
    {
     "name": "stdout",
     "output_type": "stream",
     "text": [
      "\r\n",
      "Usage:   \r\n",
      "  /Users/bolortuyatumurbaatar/anaconda3/bin/python -m pip install [options] <requirement specifier> [package-index-options] ...\r\n",
      "  /Users/bolortuyatumurbaatar/anaconda3/bin/python -m pip install [options] -r <requirements file> [package-index-options] ...\r\n",
      "  /Users/bolortuyatumurbaatar/anaconda3/bin/python -m pip install [options] [-e] <vcs project url> ...\r\n",
      "  /Users/bolortuyatumurbaatar/anaconda3/bin/python -m pip install [options] [-e] <local project path> ...\r\n",
      "  /Users/bolortuyatumurbaatar/anaconda3/bin/python -m pip install [options] <archive url/path> ...\r\n",
      "\r\n",
      "no such option: -u\r\n"
     ]
    }
   ],
   "source": [
    "import sys\n",
    "!{sys.executable} -m pip install -upgrade pip"
   ]
  },
  {
   "cell_type": "code",
   "execution_count": 6,
   "metadata": {},
   "outputs": [],
   "source": [
    "import dill"
   ]
  },
  {
   "cell_type": "code",
   "execution_count": 46,
   "metadata": {},
   "outputs": [],
   "source": [
    "dill.dump_session('project.pkl')"
   ]
  },
  {
   "cell_type": "code",
   "execution_count": 12,
   "metadata": {},
   "outputs": [],
   "source": [
    "# and to load the session again:\n",
    "dill.load_session('project.pkl')"
   ]
  }
 ],
 "metadata": {
  "kernelspec": {
   "display_name": "Python 3",
   "language": "python",
   "name": "python3"
  },
  "language_info": {
   "codemirror_mode": {
    "name": "ipython",
    "version": 3
   },
   "file_extension": ".py",
   "mimetype": "text/x-python",
   "name": "python",
   "nbconvert_exporter": "python",
   "pygments_lexer": "ipython3",
   "version": "3.7.0"
  }
 },
 "nbformat": 4,
 "nbformat_minor": 2
}
